{
 "nbformat": 4,
 "nbformat_minor": 0,
 "metadata": {
  "colab": {
   "provenance": []
  },
  "kernelspec": {
   "name": "python3",
   "display_name": "Python 3 (ipykernel)",
   "language": "python"
  },
  "language_info": {
   "name": "python"
  }
 },
 "cells": [
  {
   "cell_type": "code",
   "metadata": {
    "id": "S1EkSKjbz4j8",
    "ExecuteTime": {
     "end_time": "2024-11-23T14:01:28.131942Z",
     "start_time": "2024-11-23T14:01:27.897187Z"
    }
   },
   "source": [
    "import pandas as pd\n",
    "import pickle"
   ],
   "outputs": [],
   "execution_count": 1
  },
  {
   "cell_type": "code",
   "source": "pd.read_csv('../data/Cakes Exercise.csv')",
   "metadata": {
    "colab": {
     "base_uri": "https://localhost:8080/",
     "height": 424
    },
    "id": "2uraEInt9O6U",
    "outputId": "65d0a614-1367-45c9-976a-e285b9909a20",
    "ExecuteTime": {
     "end_time": "2024-11-23T14:01:28.146304Z",
     "start_time": "2024-11-23T14:01:28.137419Z"
    }
   },
   "outputs": [
    {
     "data": {
      "text/plain": [
       "     Radius [cm]  Layers     Topping  Price\n",
       "0             16       1     Picture    311\n",
       "1             19       3      Simple    555\n",
       "2              4       2  Decorative     89\n",
       "3              7       1     Picture     90\n",
       "4              7       2  Decorative    100\n",
       "..           ...     ...         ...    ...\n",
       "367           10       1     Writing    119\n",
       "368           14       1      Simple    235\n",
       "369            6       1     Writing     36\n",
       "370            4       3     Extreme    180\n",
       "371           18       3     Picture    486\n",
       "\n",
       "[372 rows x 4 columns]"
      ],
      "text/html": [
       "<div>\n",
       "<style scoped>\n",
       "    .dataframe tbody tr th:only-of-type {\n",
       "        vertical-align: middle;\n",
       "    }\n",
       "\n",
       "    .dataframe tbody tr th {\n",
       "        vertical-align: top;\n",
       "    }\n",
       "\n",
       "    .dataframe thead th {\n",
       "        text-align: right;\n",
       "    }\n",
       "</style>\n",
       "<table border=\"1\" class=\"dataframe\">\n",
       "  <thead>\n",
       "    <tr style=\"text-align: right;\">\n",
       "      <th></th>\n",
       "      <th>Radius [cm]</th>\n",
       "      <th>Layers</th>\n",
       "      <th>Topping</th>\n",
       "      <th>Price</th>\n",
       "    </tr>\n",
       "  </thead>\n",
       "  <tbody>\n",
       "    <tr>\n",
       "      <th>0</th>\n",
       "      <td>16</td>\n",
       "      <td>1</td>\n",
       "      <td>Picture</td>\n",
       "      <td>311</td>\n",
       "    </tr>\n",
       "    <tr>\n",
       "      <th>1</th>\n",
       "      <td>19</td>\n",
       "      <td>3</td>\n",
       "      <td>Simple</td>\n",
       "      <td>555</td>\n",
       "    </tr>\n",
       "    <tr>\n",
       "      <th>2</th>\n",
       "      <td>4</td>\n",
       "      <td>2</td>\n",
       "      <td>Decorative</td>\n",
       "      <td>89</td>\n",
       "    </tr>\n",
       "    <tr>\n",
       "      <th>3</th>\n",
       "      <td>7</td>\n",
       "      <td>1</td>\n",
       "      <td>Picture</td>\n",
       "      <td>90</td>\n",
       "    </tr>\n",
       "    <tr>\n",
       "      <th>4</th>\n",
       "      <td>7</td>\n",
       "      <td>2</td>\n",
       "      <td>Decorative</td>\n",
       "      <td>100</td>\n",
       "    </tr>\n",
       "    <tr>\n",
       "      <th>...</th>\n",
       "      <td>...</td>\n",
       "      <td>...</td>\n",
       "      <td>...</td>\n",
       "      <td>...</td>\n",
       "    </tr>\n",
       "    <tr>\n",
       "      <th>367</th>\n",
       "      <td>10</td>\n",
       "      <td>1</td>\n",
       "      <td>Writing</td>\n",
       "      <td>119</td>\n",
       "    </tr>\n",
       "    <tr>\n",
       "      <th>368</th>\n",
       "      <td>14</td>\n",
       "      <td>1</td>\n",
       "      <td>Simple</td>\n",
       "      <td>235</td>\n",
       "    </tr>\n",
       "    <tr>\n",
       "      <th>369</th>\n",
       "      <td>6</td>\n",
       "      <td>1</td>\n",
       "      <td>Writing</td>\n",
       "      <td>36</td>\n",
       "    </tr>\n",
       "    <tr>\n",
       "      <th>370</th>\n",
       "      <td>4</td>\n",
       "      <td>3</td>\n",
       "      <td>Extreme</td>\n",
       "      <td>180</td>\n",
       "    </tr>\n",
       "    <tr>\n",
       "      <th>371</th>\n",
       "      <td>18</td>\n",
       "      <td>3</td>\n",
       "      <td>Picture</td>\n",
       "      <td>486</td>\n",
       "    </tr>\n",
       "  </tbody>\n",
       "</table>\n",
       "<p>372 rows × 4 columns</p>\n",
       "</div>"
      ]
     },
     "execution_count": 2,
     "metadata": {},
     "output_type": "execute_result"
    }
   ],
   "execution_count": 2
  },
  {
   "cell_type": "code",
   "source": [
    "import pandas as pd\n",
    "from sklearn.model_selection import train_test_split\n",
    "from sklearn.linear_model import LinearRegression\n",
    "from sklearn.preprocessing import OneHotEncoder, StandardScaler\n",
    "import pickle\n",
    "\n",
    "# Load the data\n",
    "df = pd.read_csv('../data/Cakes Exercise.csv')\n",
    "\n",
    "# Separate features and target\n",
    "X = df[['Radius [cm]', 'Layers', 'Topping']]\n",
    "y = df['Price']\n",
    "\n",
    "# Create and fit the StandardScaler for numerical features\n",
    "scaler = StandardScaler()\n",
    "numerical_features = ['Radius [cm]', 'Layers']\n",
    "X_scaled = scaler.fit_transform(X[numerical_features])\n",
    "X_scaled_df = pd.DataFrame(X_scaled, columns=numerical_features)\n",
    "\n",
    "# Create and fit the OneHotEncoder for categorical features\n",
    "oht = OneHotEncoder(sparse_output=False)\n",
    "one_hot_encoded = oht.fit_transform(X[['Topping']])\n",
    "one_hot_df = pd.DataFrame(one_hot_encoded, columns=oht.get_feature_names_out())\n",
    "\n",
    "# Combine scaled numerical and one-hot encoded features\n",
    "X_processed = pd.concat([X_scaled_df, one_hot_df], axis=1)\n",
    "\n",
    "# Split the data into training and testing sets\n",
    "X_train, X_test, y_train, y_test = train_test_split(X_processed, y, test_size=0.2, random_state=42)\n",
    "\n",
    "# Create and train the model\n",
    "model = LinearRegression()\n",
    "model.fit(X_train, y_train)\n",
    "\n",
    "# Save all the components\n",
    "with open('../models/model.pkl', 'wb') as f:\n",
    "    pickle.dump(model, f)\n",
    "\n",
    "with open('../models/Standard_Scaler.pkl', 'wb') as f:\n",
    "    pickle.dump(scaler, f)\n",
    "\n",
    "with open('../models/OneHotEncoder.pkl', 'wb') as f:\n",
    "    pickle.dump(oht, f)"
   ],
   "metadata": {
    "id": "h8Y7jL_59QR6",
    "ExecuteTime": {
     "end_time": "2024-11-23T14:01:28.767762Z",
     "start_time": "2024-11-23T14:01:28.282488Z"
    }
   },
   "outputs": [],
   "execution_count": 3
  },
  {
   "cell_type": "code",
   "source": [],
   "metadata": {
    "id": "ZRLBAQWr90Wz",
    "ExecuteTime": {
     "end_time": "2024-11-23T14:01:28.792433Z",
     "start_time": "2024-11-23T14:01:28.790725Z"
    }
   },
   "outputs": [],
   "execution_count": null
  }
 ]
}
